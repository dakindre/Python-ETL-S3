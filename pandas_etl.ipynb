{
 "cells": [
  {
   "cell_type": "code",
   "execution_count": 1,
   "metadata": {},
   "outputs": [],
   "source": [
    "import json, requests, boto3\n",
    "import pandas as pd\n",
    "from pandas.io.json import json_normalize"
   ]
  },
  {
   "cell_type": "code",
   "execution_count": 2,
   "metadata": {},
   "outputs": [],
   "source": [
    "## declare variables\n",
    "url = 'https://raw.githubusercontent.com/localytics/data-viz-challenge/master/data.json'\n",
    "columnList = ['age', 'device', 'date', 'gender', 'amount', 'location.state']"
   ]
  },
  {
   "cell_type": "code",
   "execution_count": 3,
   "metadata": {},
   "outputs": [],
   "source": [
    "## class to extract/transform/load \n",
    "\n",
    "class dataviz:\n",
    "    def __init__(self, url, columnList):\n",
    "        self.url = url\n",
    "        self.list = columnList\n",
    "        self.df = None\n",
    "        self.df2 = None\n",
    "        \n",
    "    def importData(self):\n",
    "        data = pd.read_json(self.url, orient='columns')\n",
    "        df = pd.read_json((data['data']).to_json(), orient='index') \n",
    "        self.df = df.join(json_normalize(df['location'].tolist()).add_prefix('location.')).drop(['location'], axis=1)\n",
    "        \n",
    "    \n",
    "    def transformData(self):\n",
    "        self.df.fillna(0, inplace=True)\n",
    "        self.df['date'] = self.df['client_time'].dt.date\n",
    "        self.df = self.df[self.list]\n",
    "        \n",
    "    def filterData(self):\n",
    "        self.df = self.df.loc[self.df['gender'] == 'F']\n",
    "        self.df = self.df.loc[self.df['location.state'] == 'CA']                   \n",
    "                             \n",
    "    def aggregateData(self):\n",
    "        self.df2 = self.df.groupby(['age', 'device', 'date', 'gender'])['amount'].agg(['count', 'sum']).reset_index()\n",
    "        self.df2 = self.df2.drop(['gender'], axis=1)\n",
    "        \n",
    "    def writeToS3(self):\n",
    "        self.df2.set_index('date', inplace=True)\n",
    "        self.df2.to_csv('total_events.csv')\n",
    "        \n",
    "        # Send data set to S3 bucket\n",
    "        client = boto3.client('s3')\n",
    "\n",
    "        client.upload_file(\n",
    "            Filename = 'total_events.csv', \n",
    "            Bucket = 'dakindre-ecosia', \n",
    "            Key = 'total_events.csv',\n",
    "            ExtraArgs = {\n",
    "              'StorageClass': 'STANDARD_IA'\n",
    "            }\n",
    "        )\n",
    "        \n",
    "    def testPrintData(self):\n",
    "        print(self.df2.head(30))\n",
    "         "
   ]
  },
  {
   "cell_type": "code",
   "execution_count": 4,
   "metadata": {},
   "outputs": [],
   "source": [
    "def main():\n",
    "    data = dataviz(url, columnList)\n",
    "    data.importData()\n",
    "    data.transformData()\n",
    "    data.filterData()\n",
    "    data.aggregateData()\n",
    "    data.writeToS3()"
   ]
  },
  {
   "cell_type": "code",
   "execution_count": 5,
   "metadata": {},
   "outputs": [],
   "source": [
    "if __name__== \"__main__\":\n",
    "    main()"
   ]
  }
 ],
 "metadata": {
  "kernelspec": {
   "display_name": "Python 3",
   "language": "python",
   "name": "python3"
  },
  "language_info": {
   "codemirror_mode": {
    "name": "ipython",
    "version": 3
   },
   "file_extension": ".py",
   "mimetype": "text/x-python",
   "name": "python",
   "nbconvert_exporter": "python",
   "pygments_lexer": "ipython3",
   "version": "3.7.0"
  }
 },
 "nbformat": 4,
 "nbformat_minor": 2
}
